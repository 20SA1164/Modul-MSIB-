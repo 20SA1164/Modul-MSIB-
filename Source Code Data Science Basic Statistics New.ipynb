{
  "cells": [
    {
      "cell_type": "markdown",
      "metadata": {
        "id": "view-in-github",
        "colab_type": "text"
      },
      "source": [
        "<a href=\"https://colab.research.google.com/github/20SA1164/Modul-MSIB-/blob/main/Source%20Code%20Data%20Science%20Basic%20Statistics%20New.ipynb\" target=\"_parent\"><img src=\"https://colab.research.google.com/assets/colab-badge.svg\" alt=\"Open In Colab\"/></a>"
      ]
    },
    {
      "cell_type": "markdown",
      "source": [
        "## **REMINDER** \n",
        "Sebelum memulai pembelajaran self-learning jangan lupa berdoa ya teman-teman dan perhatikan:\n",
        "1. Jika menggunakan Jupyter Notebook, silahkan pilih \"File\" --> \"Download\" --> \"Download .ipynb\"\n",
        "2. Jika menggunakan Colab, silahkan pilih \"File\" --> \"Save a copy in drive\""
      ],
      "metadata": {
        "id": "OBuHR6CmQTQr"
      }
    },
    {
      "cell_type": "markdown",
      "metadata": {
        "id": "YSRdLrBmDbBq"
      },
      "source": [
        "#**MODUL 1. BASIC STATISTICS**"
      ]
    },
    {
      "cell_type": "markdown",
      "metadata": {
        "id": "BeelyBazDbBw"
      },
      "source": [
        "## Tentang Libraries untuk Statistics"
      ]
    },
    {
      "cell_type": "code",
      "execution_count": 1,
      "metadata": {
        "id": "6FF7jwg5DbBy",
        "colab": {
          "base_uri": "https://localhost:8080/"
        },
        "outputId": "57e92684-e28a-48ce-b75f-10c9d52dd325"
      },
      "outputs": [
        {
          "output_type": "stream",
          "name": "stdout",
          "text": [
            "Looking in indexes: https://pypi.org/simple, https://us-python.pkg.dev/colab-wheels/public/simple/\n",
            "Requirement already satisfied: numpy in /usr/local/lib/python3.7/dist-packages (1.21.6)\n",
            "Looking in indexes: https://pypi.org/simple, https://us-python.pkg.dev/colab-wheels/public/simple/\n",
            "Requirement already satisfied: scipy in /usr/local/lib/python3.7/dist-packages (1.7.3)\n",
            "Requirement already satisfied: numpy<1.23.0,>=1.16.5 in /usr/local/lib/python3.7/dist-packages (from scipy) (1.21.6)\n"
          ]
        }
      ],
      "source": [
        "#Sistem impor Kode Python dalam satu modul mendapatkan akses ke kode di modul lain dengan proses mengimpornya.\n",
        "import sys # import scipy\n",
        "\n",
        "# run cell ini untuk menginstall numpy\n",
        "!{sys.executable} -m pip install numpy\n",
        "\n",
        "# run cell ini menginstall scipy\n",
        "!{sys.executable} -m pip install scipy"
      ]
    },
    {
      "cell_type": "markdown",
      "metadata": {
        "id": "4ZFYlSlhDbB1"
      },
      "source": [
        "# **STATISTIK DESKRIPTIF**\n",
        "\n",
        "     "
      ]
    },
    {
      "cell_type": "markdown",
      "source": [
        "# Membuat array sederhana dengan Numpy"
      ],
      "metadata": {
        "id": "bbFvGYrGKT6M"
      }
    },
    {
      "cell_type": "code",
      "execution_count": 2,
      "metadata": {
        "id": "okRzYYSADbB2"
      },
      "outputs": [],
      "source": [
        "import numpy as np\n",
        "\n",
        "# Membuat basic array di Numpy\n",
        "X=np.array([1,2,3,5,5])"
      ]
    },
    {
      "cell_type": "markdown",
      "metadata": {
        "id": "bw3pz9cLDbB4"
      },
      "source": [
        "# Ukuran Tendensi Sentral"
      ]
    },
    {
      "cell_type": "markdown",
      "metadata": {
        "id": "J3xws0GWDbB5"
      },
      "source": [
        "### MEAN (Rata-rata)"
      ]
    },
    {
      "cell_type": "code",
      "execution_count": 3,
      "metadata": {
        "id": "UQOvK_GqDbB6",
        "colab": {
          "base_uri": "https://localhost:8080/"
        },
        "outputId": "fe01fd72-6fe4-4753-cdcc-97b381640d32"
      },
      "outputs": [
        {
          "output_type": "stream",
          "name": "stdout",
          "text": [
            "Data [1 2 3 5 5]\n",
            "Mean: 3.2\n"
          ]
        }
      ],
      "source": [
        "# Mean menggunakan Numpy\n",
        "print(\"Data\",X)\n",
        "print(\"Mean:\",np.mean(X))"
      ]
    },
    {
      "cell_type": "markdown",
      "metadata": {
        "id": "l1pbQjzODbB6"
      },
      "source": [
        "### MEDIAN"
      ]
    },
    {
      "cell_type": "code",
      "execution_count": 4,
      "metadata": {
        "id": "z52LQp7IDbB7",
        "colab": {
          "base_uri": "https://localhost:8080/"
        },
        "outputId": "cd349787-9a25-4276-c6aa-68d55c3a5fac"
      },
      "outputs": [
        {
          "output_type": "stream",
          "name": "stdout",
          "text": [
            "Data [1 2 3 5 5]\n",
            "Median 3.0\n"
          ]
        }
      ],
      "source": [
        "# Mencari Median dari X\n",
        "print(\"Data\",X)\n",
        "print(\"Median\",np.median(X))"
      ]
    },
    {
      "cell_type": "markdown",
      "metadata": {
        "id": "Lyirwnq1DbB7"
      },
      "source": [
        "### MODE (Modus)"
      ]
    },
    {
      "cell_type": "code",
      "execution_count": 5,
      "metadata": {
        "id": "-Zl2ISS5DbB7",
        "colab": {
          "base_uri": "https://localhost:8080/"
        },
        "outputId": "b6d401ea-62ad-4997-f8bf-2a3dc9d4a667"
      },
      "outputs": [
        {
          "output_type": "stream",
          "name": "stdout",
          "text": [
            "Data [1 2 3 5 5]\n",
            "Mode: 5\n",
            "Mode: ModeResult(mode=array([5]), count=array([2]))\n"
          ]
        }
      ],
      "source": [
        "# Mencari Modus menggunakan numpy\n",
        "print(\"Data\",X)\n",
        "vals,counts = np.unique(X, return_counts=True)\n",
        "index = np.argmax(counts)\n",
        "print(\"Mode:\",vals[index])\n",
        "\n",
        "\n",
        "# Mencari Modus menggunakan Scipy\n",
        "\n",
        "from scipy import stats\n",
        "print(\"Mode:\",stats.mode(X))"
      ]
    },
    {
      "cell_type": "markdown",
      "metadata": {
        "id": "uw1oEIcpDbB8"
      },
      "source": [
        "# Ukuran Penyebaran"
      ]
    },
    {
      "cell_type": "markdown",
      "metadata": {
        "id": "xKsOaGTvDbB8"
      },
      "source": [
        "### RANGE\n"
      ]
    },
    {
      "cell_type": "code",
      "execution_count": 6,
      "metadata": {
        "id": "V3CzN00CDbB9",
        "colab": {
          "base_uri": "https://localhost:8080/"
        },
        "outputId": "b51612a4-a2c5-4b1d-ab6e-1afc744b2d32"
      },
      "outputs": [
        {
          "output_type": "stream",
          "name": "stdout",
          "text": [
            "Data  [1 2 3 5 5]\n",
            "Range  4\n"
          ]
        }
      ],
      "source": [
        "# Menghitung Range\n",
        "print(\"Data \",X)\n",
        "print(\"Range \",X.max()-X.min())"
      ]
    },
    {
      "cell_type": "markdown",
      "metadata": {
        "id": "xgDK5vvRDbB9"
      },
      "source": [
        "### QUARTILES AND IQR (Interquartile Range)\n"
      ]
    },
    {
      "cell_type": "code",
      "execution_count": 7,
      "metadata": {
        "id": "FEhwP7l3DbB9",
        "colab": {
          "base_uri": "https://localhost:8080/"
        },
        "outputId": "a9a7ef88-291c-47ab-bb5d-89242f4bb236"
      },
      "outputs": [
        {
          "output_type": "stream",
          "name": "stdout",
          "text": [
            "Data [ 1  3  4  5  5  6  7 11]\n",
            "\n",
            "Quartile 1: 3.5\n",
            "Quartile 2: 5.0\n",
            "Quartile 3: 6.5\n",
            "\n",
            "Interquartile Range 3.0\n"
          ]
        }
      ],
      "source": [
        "# Mendefinisikan Data\n",
        "data1=np.array([1, 3, 4, 5, 5, 6, 7, 11])\n",
        "print(\"Data\",data1)\n",
        "\n",
        "# Quartile pertama (Q1)\n",
        "Q1 = np.quantile(data1, .25, interpolation = 'midpoint')\n",
        "print(\"\\nQuartile 1:\",Q1)\n",
        " \n",
        "# Quartile kedua (Q2)\n",
        "Q2 = np.quantile(data1, .50, interpolation = 'midpoint')\n",
        "print(\"Quartile 2:\",Q2)\n",
        "\n",
        "# Quartile ketiga (Q3)\n",
        "Q3 = np.quantile(data1, .75, interpolation = 'midpoint')\n",
        "print(\"Quartile 3:\",Q3)\n",
        "\n",
        "# Rentang interQuartile(IQR)\n",
        "IQR = Q3 - Q1\n",
        "print(\"\\nInterquartile Range\",IQR)"
      ]
    },
    {
      "cell_type": "markdown",
      "metadata": {
        "id": "xmBGpaCiDbB-"
      },
      "source": [
        "### PERCENTILES"
      ]
    },
    {
      "cell_type": "code",
      "execution_count": 8,
      "metadata": {
        "id": "E0h7JB3IDbB-",
        "colab": {
          "base_uri": "https://localhost:8080/"
        },
        "outputId": "d1f8104f-a494-40d8-e128-3e7fe1884733"
      },
      "outputs": [
        {
          "output_type": "stream",
          "name": "stdout",
          "text": [
            "Data [ 1  3  4  5  5  6  7 11]\n",
            "25th Percentile: 3.75\n"
          ]
        }
      ],
      "source": [
        "print(\"Data\",data1)\n",
        "percentile_25 = np.percentile(data1,25)\n",
        "print(\"25th Percentile:\",round(percentile_25,2))"
      ]
    },
    {
      "cell_type": "markdown",
      "metadata": {
        "id": "YcFdV7I8DbB-"
      },
      "source": [
        "### VARIANCE AND STANDARD DEVIATION\n"
      ]
    },
    {
      "cell_type": "code",
      "execution_count": 9,
      "metadata": {
        "id": "CJEXumYeDbB-",
        "colab": {
          "base_uri": "https://localhost:8080/"
        },
        "outputId": "68ed9a5f-e194-411a-fb85-cb039c926425"
      },
      "outputs": [
        {
          "output_type": "stream",
          "name": "stdout",
          "text": [
            "Data [ 1  3  4  5  5  6  7 11]\n",
            "Variance: 8.785714285714286\n",
            "Standard Deviation: 2.9640705601780613\n"
          ]
        }
      ],
      "source": [
        "print(\"Data\",data1)\n",
        "\n",
        "'''\n",
        "    \"Delta Degrees of Freedom\": pembagi yang digunakan dalam perhitungan adalah\n",
        "    ``N - ddof``, di mana ``N`` mewakili jumlah elemen. Oleh\n",
        "    default `ddof` adalah nol.\n",
        "'''\n",
        "print(\"Variance:\",np.var(data1,ddof=1))\n",
        "print(\"Standard Deviation:\",np.std(data1,ddof=1))"
      ]
    },
    {
      "cell_type": "markdown",
      "metadata": {
        "id": "1Cflujj1DbB_"
      },
      "source": [
        "\n",
        "# COVARIANCE AND CORRELATION"
      ]
    },
    {
      "cell_type": "markdown",
      "metadata": {
        "id": "imXdSc7BDbB_"
      },
      "source": [
        "### COVARIANCE"
      ]
    },
    {
      "cell_type": "code",
      "execution_count": 10,
      "metadata": {
        "id": "q9Tv1Iz5DbB_",
        "colab": {
          "base_uri": "https://localhost:8080/"
        },
        "outputId": "acb19bfc-a15a-412b-a779-84ba1a2428a1"
      },
      "outputs": [
        {
          "output_type": "stream",
          "name": "stdout",
          "text": [
            "[1 2 3 4 5 6 7 8 9]\n",
            "[9 8 7 6 5 4 3 2 1]\n",
            "\n",
            "Covariance  -7.5\n"
          ]
        }
      ],
      "source": [
        "x = np.array([1,2,3,4,5,6,7,8,9])\n",
        "print(x)\n",
        "y = np.array([9,8,7,6,5,4,3,2,1])\n",
        "print(y)\n",
        "\n",
        "print(\"\\nCovariance \",np.cov(x,y)[0,1])"
      ]
    },
    {
      "cell_type": "markdown",
      "metadata": {
        "id": "U_4biw1gDbB_"
      },
      "source": [
        "### CORRELATION"
      ]
    },
    {
      "cell_type": "code",
      "execution_count": 11,
      "metadata": {
        "id": "zGDPNZy8DbB_",
        "colab": {
          "base_uri": "https://localhost:8080/"
        },
        "outputId": "dd178d7b-fd12-4bfb-d712-d26cdf28b773"
      },
      "outputs": [
        {
          "output_type": "stream",
          "name": "stdout",
          "text": [
            "[[ 1. -1.]\n",
            " [-1.  1.]]\n"
          ]
        }
      ],
      "source": [
        "# Nilai matriks koefisien korelasi\n",
        "print(np.corrcoef(x,y))"
      ]
    },
    {
      "cell_type": "markdown",
      "metadata": {
        "id": "JVxmLlfyDbCA"
      },
      "source": [
        "# KURTOSIS"
      ]
    },
    {
      "cell_type": "code",
      "execution_count": 12,
      "metadata": {
        "id": "Rb5AQ9-YDbCA",
        "colab": {
          "base_uri": "https://localhost:8080/"
        },
        "outputId": "90aa9df8-a161-4f9c-e1cc-c21446bae251"
      },
      "outputs": [
        {
          "output_type": "stream",
          "name": "stdout",
          "text": [
            "Kurtosis -1.2002400240024003\n"
          ]
        }
      ],
      "source": [
        "data2=np.linspace(-5,5,100)\n",
        "print(\"Kurtosis\",stats.kurtosis(data2))"
      ]
    },
    {
      "cell_type": "markdown",
      "metadata": {
        "id": "O8mgKZ4ODbCA"
      },
      "source": [
        "# SKEWNESS"
      ]
    },
    {
      "cell_type": "code",
      "execution_count": 13,
      "metadata": {
        "scrolled": true,
        "id": "5rz36m6FDbCA",
        "colab": {
          "base_uri": "https://localhost:8080/",
          "height": 282
        },
        "outputId": "264e3d3e-309e-491f-f0ab-956e62429e0d"
      },
      "outputs": [
        {
          "output_type": "display_data",
          "data": {
            "text/plain": [
              "<IPython.core.display.HTML object>"
            ],
            "text/html": [
              "<script>\n",
              "code_show=true; \n",
              "function code_toggle() {\n",
              "    if (code_show){\n",
              "        $('div.cell.code_cell.rendered.selected div.input').hide();\n",
              "    } else {\n",
              "        $('div.cell.code_cell.rendered.selected div.input').show();\n",
              "    }\n",
              "    code_show = !code_show\n",
              "} \n",
              "$( document ).ready(code_toggle);\n",
              "</script>\n",
              "To show/hide this cell's raw code input, click <a href=\"javascript:code_toggle()\">here</a>."
            ]
          },
          "metadata": {}
        },
        {
          "output_type": "display_data",
          "data": {
            "text/plain": [
              "<Figure size 432x288 with 1 Axes>"
            ],
            "image/png": "[encoded data removed]"
          },
          "metadata": {
            "needs_background": "light"
          }
        }
      ],
      "source": [
        "from IPython.display import HTML\n",
        "from IPython.display import display\n",
        "\n",
        "#Diambil dari link https://stackoverflow.com/questions/31517194/how-to-hide-one-specific-cell-input-or-output-in-ipython-notebook\n",
        "tag = HTML('''<script>\n",
        "code_show=true; \n",
        "function code_toggle() {\n",
        "    if (code_show){\n",
        "        $('div.cell.code_cell.rendered.selected div.input').hide();\n",
        "    } else {\n",
        "        $('div.cell.code_cell.rendered.selected div.input').show();\n",
        "    }\n",
        "    code_show = !code_show\n",
        "} \n",
        "$( document ).ready(code_toggle);\n",
        "</script>\n",
        "To show/hide this cell's raw code input, click <a href=\"javascript:code_toggle()\">here</a>.''')\n",
        "display(tag)\n",
        "\n",
        "\n",
        "\n",
        "from scipy.stats import skewnorm\n",
        "import matplotlib.pyplot as plt\n",
        "\n",
        "numValues = 10000\n",
        "maxValue = 100\n",
        "skewness = -5   #Nilai negatif merupakan left skewed, nilai positif adalah right skewed.\n",
        "\n",
        "random = skewnorm.rvs(a = skewness,loc=maxValue, size=numValues)  #fungsi Skewnorm\n",
        "\n",
        "random = random - min(random)      #Mengubah set random menjadi nilai minimum yang sama dengan 0.\n",
        "random = random / max(random)      #Melakukan standarisasi nilai antara 0 dan 1. \n",
        "random = random * maxValue         #Mengalikan nilai standarisasi dengan nilai maximum.\n",
        "\n",
        "#Plot histogram untuk mengecek skewness\n",
        "plt.hist(random,30,density=True, color = 'red', alpha=0.1)\n",
        "plt.show()"
      ]
    },
    {
      "cell_type": "code",
      "execution_count": 14,
      "metadata": {
        "id": "ZSkcTQClDbCA",
        "colab": {
          "base_uri": "https://localhost:8080/"
        },
        "outputId": "08dc32cf-12e2-4c98-a737-277eb724e9cd"
      },
      "outputs": [
        {
          "output_type": "stream",
          "name": "stdout",
          "text": [
            "Skewness -2.8663736585314984e-17\n"
          ]
        }
      ],
      "source": [
        "print(\"Skewness\",stats.skew(data2))"
      ]
    },
    {
      "cell_type": "markdown",
      "metadata": {
        "id": "80yeDQ2kDbCB"
      },
      "source": [
        "# Eigen Vector"
      ]
    },
    {
      "cell_type": "code",
      "execution_count": 15,
      "metadata": {
        "id": "ttpxvQSkDbCB",
        "colab": {
          "base_uri": "https://localhost:8080/"
        },
        "outputId": "d6990856-3605-4b1d-bcfd-e94dc45bf701"
      },
      "outputs": [
        {
          "output_type": "execute_result",
          "data": {
            "text/plain": [
              "matrix([[4, 2, 3],\n",
              "        [6, 7, 5],\n",
              "        [3, 6, 1]])"
            ]
          },
          "metadata": {},
          "execution_count": 15
        }
      ],
      "source": [
        "import numpy as np\n",
        "x = np.matrix([[4,2,3],[6,7,5],[3,6,1]])\n",
        "x\n"
      ]
    },
    {
      "cell_type": "code",
      "execution_count": 16,
      "metadata": {
        "id": "yIR8FtelDbCB",
        "colab": {
          "base_uri": "https://localhost:8080/"
        },
        "outputId": "0267f164-d2cd-4f10-c1d9-109824937d84"
      },
      "outputs": [
        {
          "output_type": "execute_result",
          "data": {
            "text/plain": [
              "array([[1., 0., 0.],\n",
              "       [0., 1., 0.],\n",
              "       [0., 0., 1.]])"
            ]
          },
          "metadata": {},
          "execution_count": 16
        }
      ],
      "source": [
        "e = np.eye(3)\n",
        "e"
      ]
    },
    {
      "cell_type": "code",
      "execution_count": 17,
      "metadata": {
        "id": "yrSmtJK0DbCB",
        "colab": {
          "base_uri": "https://localhost:8080/"
        },
        "outputId": "c37432f6-05da-47ea-a1ee-e7a3751882ce"
      },
      "outputs": [
        {
          "output_type": "execute_result",
          "data": {
            "text/plain": [
              "(array([12.76222365,  1.17374428, -1.93596793]),\n",
              " matrix([[-0.35090794, -0.78464131, -0.36647301],\n",
              "         [-0.79489403,  0.40589024, -0.25466269],\n",
              "         [-0.49498192,  0.4686055 ,  0.89489913]]))"
            ]
          },
          "metadata": {},
          "execution_count": 17
        }
      ],
      "source": [
        "#Membuat matriks baru yang merupakan transformasi linier dari x\n",
        "m = x + 45*e\n",
        "#Menghitung nilai eigen dan vector eigen dari array persegi\n",
        "np.linalg.eig(x) "
      ]
    },
    {
      "cell_type": "code",
      "execution_count": 18,
      "metadata": {
        "id": "Q1Pf5SA6DbCB",
        "colab": {
          "base_uri": "https://localhost:8080/"
        },
        "outputId": "b4f61e9c-ca2f-47bd-e95a-c06a4d26f3af"
      },
      "outputs": [
        {
          "output_type": "execute_result",
          "data": {
            "text/plain": [
              "(array([57.76222365, 46.17374428, 43.06403207]),\n",
              " matrix([[-0.35090794, -0.78464131, -0.36647301],\n",
              "         [-0.79489403,  0.40589024, -0.25466269],\n",
              "         [-0.49498192,  0.4686055 ,  0.89489913]]))"
            ]
          },
          "metadata": {},
          "execution_count": 18
        }
      ],
      "source": [
        "np.linalg.eig(m)"
      ]
    },
    {
      "cell_type": "markdown",
      "source": [
        "<br><br>\n",
        "# **STATISTIK INFERENSIAL**"
      ],
      "metadata": {
        "id": "zGclfO_wOQvV"
      }
    },
    {
      "cell_type": "markdown",
      "source": [
        "# **Hypothesis Testing**"
      ],
      "metadata": {
        "id": "cmGKQw4lPCbE"
      }
    },
    {
      "cell_type": "markdown",
      "source": [
        "## **z-Test di hypothesis testing**"
      ],
      "metadata": {
        "id": "FGYPtUOcPJU5"
      }
    },
    {
      "cell_type": "markdown",
      "source": [
        "### **One Sample Z test:**"
      ],
      "metadata": {
        "id": "ElQsYi0a44Qe"
      }
    },
    {
      "cell_type": "code",
      "source": [
        "import pandas as pd\n",
        "from scipy import stats\n",
        "\n",
        "url = \"https://raw.githubusercontent.com/bluedataconsulting/AIMasteryProgram/main/Lab_Exercises/Module2/systolic%20blood%20pressure.csv\"\n",
        "df = pd.read_csv(url)\n",
        "\n",
        "from statsmodels.stats import weightstats as stests\n",
        "\n",
        "ztest, pval = stests.ztest(df['armsys'], value=125) #value = mean dari 'armsys' di bawah hypothesis nol\n",
        "print(pval)\n",
        "\n",
        "if pval<0.05:                                # 0.05 adalah nilai signifikasnsi(α)\n",
        "    print(\"Mean bukan 125\")\n",
        "else:\n",
        "    print(\"Mean adalah 125\")\n",
        "\n",
        "import numpy as np"
      ],
      "metadata": {
        "id": "0lVqT1QqOzf4",
        "colab": {
          "base_uri": "https://localhost:8080/"
        },
        "outputId": "3b9838c9-b465-4d89-f1a3-e0b471cb47ab"
      },
      "execution_count": 19,
      "outputs": [
        {
          "output_type": "stream",
          "name": "stdout",
          "text": [
            "0.032546442541153964\n",
            "Mean bukan 125\n"
          ]
        }
      ]
    },
    {
      "cell_type": "markdown",
      "source": [
        "**Kesimpulan: \n",
        "Oleh karena mean bukan 125, maka p value < 0.05 sehingga hipotesis alternatif diterima.**"
      ],
      "metadata": {
        "id": "z3ZX2mmjPfDv"
      }
    },
    {
      "cell_type": "markdown",
      "source": [
        "### **Two Sample z-test**"
      ],
      "metadata": {
        "id": "wfcDJoqCPj1d"
      }
    },
    {
      "cell_type": "code",
      "source": [
        "import pandas as pd\n",
        "from scipy import stats\n",
        "\n",
        "url = \"https://raw.githubusercontent.com/bluedataconsulting/AIMasteryProgram/main/Lab_Exercises/Module2/systolic%20blood%20pressure.csv\"\n",
        "df = pd.read_csv(url)\n",
        "\n",
        "from statsmodels.stats import weightstats as stests\n",
        "\n",
        "ztest, pval = stests.ztest(x1=df['armsys'], x2=df['fingsys'], value=0,alternative='two-sided')\n",
        "print(pval)\n",
        "\n",
        "if pval<0.05:\n",
        "  print(\"Mean dari two samples bukan 0\")\n",
        "else:\n",
        "  print(\"Mean dari two samples adalah 0\")"
      ],
      "metadata": {
        "id": "KIQlD6N9PgDs",
        "colab": {
          "base_uri": "https://localhost:8080/"
        },
        "outputId": "ef177bb6-8a00-457e-fca0-e871a6edcfbb"
      },
      "execution_count": 20,
      "outputs": [
        {
          "output_type": "stream",
          "name": "stdout",
          "text": [
            "0.07954652069053099\n",
            "Mean dari two samples adalah 0\n"
          ]
        }
      ]
    },
    {
      "cell_type": "markdown",
      "source": [
        "**Kesimpulan: Oleh karena mean dari two samples adalah 0 maka pval>0.05, sehingga hypothesis null diterima.**"
      ],
      "metadata": {
        "id": "m758chiUPrDo"
      }
    },
    {
      "cell_type": "markdown",
      "source": [
        "## **t-Test in hypothesis testing**"
      ],
      "metadata": {
        "id": "U3TK6fc-PvqD"
      }
    },
    {
      "cell_type": "markdown",
      "source": [
        "\n",
        " ### **One sample t-Test**"
      ],
      "metadata": {
        "id": "mdcqE6bEPvze"
      }
    },
    {
      "cell_type": "code",
      "source": [
        "#One Sample t test\n",
        "x = [8.8, 6.6, 9.5, 11.2, 10.2, 7.4, 8.0, 9.6, 9.9, 9.0,\n",
        "     7.6, 7.4, 10.4, 11.1, 8.5, 10.0, 11.6, 10.7, 10.3, 7.0]\n",
        "mu = 10\n",
        "t_critical = 2.093\n",
        "x_bar = np.array(x).mean()\n",
        "s = np.array(x).std(ddof=1) # kurangi 1 dari N untuk mendapatkan estimasi standar deviasi sampel yang tidak bias\n",
        "N = len(x)\n",
        "SE = s/np.sqrt(N)\n",
        "t = (x_bar - mu)/SE\n",
        "print(\"t-statistic: \",t)\n",
        "\n",
        "# Uji-t satu sampel juga dapat dilakukan dengan library scipy sebagai berikut:\n",
        "t, p = stats.ttest_1samp(x, mu)\n",
        "print(\"t = \", t, \", p = \", p)\n",
        "if p<0.05:\n",
        "    print(\"Reject null hypothesis\")\n",
        "else:\n",
        "    print(\"Accept null hypothesis\")"
      ],
      "metadata": {
        "id": "zjKGMZXfPnS4",
        "colab": {
          "base_uri": "https://localhost:8080/"
        },
        "outputId": "d870c5b9-49af-465a-e7ec-b775c4572709"
      },
      "execution_count": 21,
      "outputs": [
        {
          "output_type": "stream",
          "name": "stdout",
          "text": [
            "t-statistic:  -2.2491611580763977\n",
            "t =  -2.2491611580763973 , p =  0.03655562279112415\n",
            "Reject null hypothesis\n"
          ]
        }
      ]
    },
    {
      "cell_type": "markdown",
      "source": [
        "**Kesimpulan: Kami menolak hipotesis nol.**"
      ],
      "metadata": {
        "id": "qz87hu33P6hf"
      }
    },
    {
      "cell_type": "markdown",
      "source": [
        "### Two sample t-test"
      ],
      "metadata": {
        "id": "HcXpqd_RP87s"
      }
    },
    {
      "cell_type": "code",
      "source": [
        "x1 = [10.8, 10.0, 8.2, 9.9, 11.6, 10.1, 11.3, 10.3, 10.7, 9.7, \n",
        "      7.8, 9.6, 9.7, 11.6, 10.3, 9.8, 12.3, 11.0, 10.4, 10.4]\n",
        "\n",
        "x2 = [7.8, 7.5, 9.5, 11.7, 8.1, 8.8, 8.8, 7.7, 9.7, 7.0, \n",
        "      9.0, 9.7, 11.3, 8.7, 8.8, 10.9, 10.3, 9.6, 8.4, 6.6,\n",
        "      7.2, 7.6, 11.5, 6.6, 8.6, 10.5, 8.4, 8.5, 10.2, 9.2]\n",
        "\n",
        "t_critical = 1.677    #diberikan\n",
        "\n",
        "X1 = len(x1)\n",
        "X2 = len(x2)\n",
        "\n",
        "t1 = X1-1\n",
        "t2 = X2-1\n",
        "\n",
        "df = t1+t2\n",
        "\n",
        "s1 = np.std(x1,ddof=1)\n",
        "s2 = np.std(x2,ddof=1)\n",
        "\n",
        "x1_bar = np.mean(x1)\n",
        "x2_bar = np.mean(x2)\n",
        "sp = np.sqrt((t1*s1**2 + t2*s2**2)/df)\n",
        "se = sp*np.sqrt(1/X1 + 1/X2)\n",
        "t = (x2_bar - x1_bar)/(se)\n",
        "print(\"t-statistic\", t)\n",
        "\n",
        "# NOTE: the p-value given is two-sided so the one-sided p value would be p/2\n",
        "t, p_twosided = stats.ttest_ind(x2, x1, equal_var=True)\n",
        "print(\"t = \",t, \", p_twosided = \", p_twosided, \", p_onesided =\", p_twosided/2)\n",
        "\n",
        "if p<0.05:\n",
        "    print(\"Reject null hypothesis\")\n",
        "else:\n",
        "    print(\"Accept null hypothesis\")"
      ],
      "metadata": {
        "id": "a0pp2C7hP7Dz",
        "colab": {
          "base_uri": "https://localhost:8080/"
        },
        "outputId": "a8553b5e-0302-431f-9472-2b3f6992eda3"
      },
      "execution_count": 24,
      "outputs": [
        {
          "output_type": "stream",
          "name": "stdout",
          "text": [
            "t-statistic -3.5981947686898033\n",
            "t =  -3.5981947686898033 , p_twosided =  0.0007560337478801464 , p_onesided = 0.0003780168739400732\n",
            "Reject null hypothesis\n"
          ]
        }
      ]
    },
    {
      "cell_type": "markdown",
      "source": [
        "\n",
        "**Kesimpulan: Kami menolak hipotesis nol.**\n"
      ],
      "metadata": {
        "id": "GYpM63GyQCkR"
      }
    },
    {
      "cell_type": "markdown",
      "source": [
        "### Paired t-test"
      ],
      "metadata": {
        "id": "e5hG0M-KQEBI"
      }
    },
    {
      "cell_type": "code",
      "source": [
        "import pandas as pd\n",
        "from scipy import stats\n",
        "\n",
        "x1 = [10.8, 10.0, 8.2, 9.9, 11.6, 10.1, 11.3, 10.3, 10.7, 9.7, \n",
        "      7.8, 9.6, 9.7, 11.6, 10.3, 9.8, 12.3, 11.0, 10.4, 10.4]\n",
        "\n",
        "x2 = [7.8, 7.5, 9.5, 11.7, 8.1, 8.8, 8.8, 7.7, 9.7, 7.0, \n",
        "      9.0, 9.7, 11.3, 8.7, 8.8, 10.9, 10.3, 9.6, 8.4, 6.6]\n",
        "\n",
        "ttest,pval = stats.ttest_rel(x1,x2)\n",
        "\n",
        "if pval<0.05:\n",
        "    print(\"reject null hypothesis\")\n",
        "else:\n",
        "    print(\"accept null hypothesis\")\n"
      ],
      "metadata": {
        "id": "7ZuI30ohQDKU",
        "colab": {
          "base_uri": "https://localhost:8080/"
        },
        "outputId": "8a6a600d-fe71-479c-b116-f9fb615218ef"
      },
      "execution_count": 25,
      "outputs": [
        {
          "output_type": "stream",
          "name": "stdout",
          "text": [
            "reject null hypothesis\n"
          ]
        }
      ]
    },
    {
      "cell_type": "markdown",
      "source": [
        "**Kesimpulan: Di sini, kami menolak Hipotesis Null.**"
      ],
      "metadata": {
        "id": "zqOcoY-gQJ1C"
      }
    }
  ],
  "metadata": {
    "kernelspec": {
      "display_name": "Python 3",
      "language": "python",
      "name": "python3"
    },
    "language_info": {
      "codemirror_mode": {
        "name": "ipython",
        "version": 3
      },
      "file_extension": ".py",
      "mimetype": "text/x-python",
      "name": "python",
      "nbconvert_exporter": "python",
      "pygments_lexer": "ipython3",
      "version": "3.8.8"
    },
    "colab": {
      "provenance": [],
      "collapsed_sections": [],
      "include_colab_link": true
    }
  },
  "nbformat": 4,
  "nbformat_minor": 0
}
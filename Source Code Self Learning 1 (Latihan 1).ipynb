{
  "nbformat": 4,
  "nbformat_minor": 0,
  "metadata": {
    "colab": {
      "provenance": [],
      "collapsed_sections": [],
      "include_colab_link": true
    },
    "kernelspec": {
      "name": "python3",
      "display_name": "Python 3"
    },
    "language_info": {
      "name": "python"
    }
  },
  "cells": [
    {
      "cell_type": "markdown",
      "metadata": {
        "id": "view-in-github",
        "colab_type": "text"
      },
      "source": [
        "<a href=\"https://colab.research.google.com/github/20SA1164/Modul-MSIB-/blob/main/Source%20Code%20Self%20Learning%201%20(Latihan%201).ipynb\" target=\"_parent\"><img src=\"https://colab.research.google.com/assets/colab-badge.svg\" alt=\"Open In Colab\"/></a>"
      ]
    },
    {
      "cell_type": "code",
      "source": [
        "print(\"Seseorang yang mencari tahu tentang AI\\n\")\n",
        "\n",
        "input(\"Nama\\t\\t: \")\n",
        "input(\"Jenis Kelamin\\t: \")\n",
        "input(\"Alamat\\t\\t: \")\n",
        "input(\"Hobi\\t\\t: \")\n",
        "input(\"Pendidikan\\t: \")\n",
        "input(\"Pekerjaan\\t: \")\n",
        "input(\"Media Sosial\\t: \")\n",
        "input(\"Kutipan Faforit\\t: \\n\\n\")\n",
        "print()\n",
        "print(\"Pengalaman\\t : \")\n",
        "print(\"\\t- Organisasi Kepramukaan\")"
      ],
      "metadata": {
        "colab": {
          "base_uri": "https://localhost:8080/"
        },
        "id": "-57f8fGAG_4p",
        "outputId": "b09e84d5-efc9-4d84-de5a-a7b964458b4d"
      },
      "execution_count": 2,
      "outputs": [
        {
          "output_type": "stream",
          "name": "stdout",
          "text": [
            "Seseorang yang mencari tahu tentang AI\n",
            "\n",
            "Nama\t\t: Siti Nur Fadhilah\n",
            "Jenis Kelamin\t: Perempuan\n",
            "Alamat\t\t: Makassar\n",
            "Hobi\t\t: Travelling\n",
            "Pendidikan\t: S1 - Informatika\n",
            "Pekerjaan\t: Mahasiswa\n",
            "Media Sosial\t: _dhils12\n",
            "Kutipan Faforit\t: \n",
            "\n",
            "belajar sabar dari hal yang membuat kita marah\n",
            "\n",
            "Pengalaman\t : \n",
            "\t- Organisasi Kepramukaan\n"
          ]
        }
      ]
    }
  ]
}
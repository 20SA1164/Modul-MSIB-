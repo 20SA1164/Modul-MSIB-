{
  "nbformat": 4,
  "nbformat_minor": 0,
  "metadata": {
    "colab": {
      "name": "Source Code - Self Learning 1.ipynb",
      "provenance": [],
      "collapsed_sections": [],
      "authorship_tag": "ABX9TyNeoal8Wa4EkninV//ShW6L",
      "include_colab_link": true
    },
    "kernelspec": {
      "name": "python3",
      "display_name": "Python 3"
    },
    "language_info": {
      "name": "python"
    }
  },
  "cells": [
    {
      "cell_type": "markdown",
      "metadata": {
        "id": "view-in-github",
        "colab_type": "text"
      },
      "source": [
        "<a href=\"https://colab.research.google.com/github/20SA1164/Modul-MSIB-/blob/main/Source_Code_Self_Learning_1.ipynb\" target=\"_parent\"><img src=\"https://colab.research.google.com/assets/colab-badge.svg\" alt=\"Open In Colab\"/></a>"
      ]
    },
    {
      "cell_type": "markdown",
      "source": [
        "## Python-1 MyFirstProgram\n"
      ],
      "metadata": {
        "id": "PmWDZHdwcvtv"
      }
    },
    {
      "cell_type": "markdown",
      "source": [
        "# a. variable "
      ],
      "metadata": {
        "id": "vDD-2ulZnct6"
      }
    },
    {
      "cell_type": "code",
      "source": [
        "nama = \"Dhilah\"\n",
        "nama_lengkap = \"Siti Nur Fadhilah\"\n",
        "batch = 50\n",
        "_constant = 3.14 \n",
        "alpha = 0.01\n",
        "st0p_pr0cess = False "
      ],
      "metadata": {
        "id": "O-r_sgNInbea"
      },
      "execution_count": null,
      "outputs": []
    },
    {
      "cell_type": "code",
      "source": [
        "4lgoritma = 'Support Vector Machine'"
      ],
      "metadata": {
        "id": "RC0jW8LynsyF"
      },
      "execution_count": null,
      "outputs": []
    },
    {
      "cell_type": "code",
      "source": [
        "diskon% = 0.25"
      ],
      "metadata": {
        "id": "Qy6BZS8HnxPq"
      },
      "execution_count": null,
      "outputs": []
    },
    {
      "cell_type": "code",
      "source": [
        "Kode Materi = 'RB-1-1'"
      ],
      "metadata": {
        "id": "aZL9eOdqnznM"
      },
      "execution_count": null,
      "outputs": []
    },
    {
      "cell_type": "markdown",
      "source": [
        "# b. Tipe Data"
      ],
      "metadata": {
        "id": "Lt28bGo2n3Jx"
      }
    },
    {
      "cell_type": "markdown",
      "source": [
        "**Integer** "
      ],
      "metadata": {
        "id": "jhCKg0PMn-B2"
      }
    },
    {
      "cell_type": "code",
      "source": [
        "nilai = 90 \n",
        "type(nilai)"
      ],
      "metadata": {
        "id": "Vi9VJoiDn46Y"
      },
      "execution_count": null,
      "outputs": []
    },
    {
      "cell_type": "code",
      "source": [
        "suhu = 37 \n",
        "type(suhu)"
      ],
      "metadata": {
        "id": "MYrqz_6_oQkp"
      },
      "execution_count": null,
      "outputs": []
    },
    {
      "cell_type": "code",
      "source": [
        "tinggi_badan = 175\n",
        "type(tinggi_badan)"
      ],
      "metadata": {
        "id": "OoE-iT6XoOzU"
      },
      "execution_count": null,
      "outputs": []
    },
    {
      "cell_type": "code",
      "source": [
        "berat_badan = 70\n",
        "type(berat_badan)"
      ],
      "metadata": {
        "id": "fUGQU_X7oXAK"
      },
      "execution_count": null,
      "outputs": []
    },
    {
      "cell_type": "code",
      "source": [
        "label = 1\n",
        "type(label)"
      ],
      "metadata": {
        "id": "G0B05N-voZuX"
      },
      "execution_count": null,
      "outputs": []
    },
    {
      "cell_type": "markdown",
      "source": [
        "**Float**"
      ],
      "metadata": {
        "id": "sw36uQ9koGnL"
      }
    },
    {
      "cell_type": "code",
      "source": [
        "phi = 3.14\n",
        "type(phi)"
      ],
      "metadata": {
        "id": "UNWUESbYoId3"
      },
      "execution_count": null,
      "outputs": []
    },
    {
      "cell_type": "code",
      "source": [
        "gravitasi = 9.8\n",
        "type(gravitasi)"
      ],
      "metadata": {
        "id": "gOnpKnsoofJ4"
      },
      "execution_count": null,
      "outputs": []
    },
    {
      "cell_type": "code",
      "source": [
        "IPK = 4.0\n",
        "type(IPK)"
      ],
      "metadata": {
        "id": "dE4ab0orogy5"
      },
      "execution_count": null,
      "outputs": []
    },
    {
      "cell_type": "code",
      "source": [
        "temperature = -12.3\n",
        "type(temperature)"
      ],
      "metadata": {
        "id": "v-BBcKmWokX_"
      },
      "execution_count": null,
      "outputs": []
    },
    {
      "cell_type": "code",
      "source": [
        "curah_hujan = 1043.2\n",
        "type(curah_hujan)"
      ],
      "metadata": {
        "id": "zSAIbs-momRa"
      },
      "execution_count": null,
      "outputs": []
    },
    {
      "cell_type": "markdown",
      "source": [
        "**String (str)**"
      ],
      "metadata": {
        "id": "vm7Nui_eoqyx"
      }
    },
    {
      "cell_type": "code",
      "source": [
        "NIM = '20SA1164'\n",
        "type(NIM)"
      ],
      "metadata": {
        "id": "DifR054PouhJ"
      },
      "execution_count": null,
      "outputs": []
    },
    {
      "cell_type": "code",
      "source": [
        "program = \"Foundation of AI and Life Skills for Gen-Z\"\n",
        "type(program)"
      ],
      "metadata": {
        "id": "Qdsp0JIPoukp"
      },
      "execution_count": null,
      "outputs": []
    },
    {
      "cell_type": "code",
      "source": [
        "referensi = \"Dasar Pemrograman Python 3\"\n",
        "type(referensi)"
      ],
      "metadata": {
        "id": "xvC-aHKGo5_S"
      },
      "execution_count": null,
      "outputs": []
    },
    {
      "cell_type": "code",
      "source": [
        "nama_kelas = \"JumaTec\"\n",
        "type(nama_kelas)"
      ],
      "metadata": {
        "id": "5S8u7VdQo9o_"
      },
      "execution_count": null,
      "outputs": []
    },
    {
      "cell_type": "code",
      "source": [
        "tweet = 'Conggraduation :), ditunggu traktiran dr klean'\n",
        "type(tweet)"
      ],
      "metadata": {
        "id": "-r04BdoepAAW"
      },
      "execution_count": null,
      "outputs": []
    },
    {
      "cell_type": "code",
      "source": [
        "reviews = \"\"\"Kehidupan manusia telah dipenuhi oleh Artifiacial Intelligence. \n",
        "Kita telah hidup dalam dunia yang sudah dan akan menjadi AI dependent.\n",
        "Dunia membutuhkan generasi yang memiliki keterampilan AI\n",
        "yang dapat memberikan solusi dari permasalahan melalui inovasi atau \n",
        "bahkan invensi menggunakan AI.\"\"\"\n",
        "\n",
        "type(reviews)"
      ],
      "metadata": {
        "id": "f2WRsEV_pEzr"
      },
      "execution_count": null,
      "outputs": []
    },
    {
      "cell_type": "code",
      "source": [
        "sajak = '''\"Nisan\" - Chairil Anwar\n",
        "untuk Nenekanda\n",
        "Bukan kematian benar menusuk kalbu\n",
        "Keridlaanmu menerima segala tiba\n",
        "Tak kutahu setinggi itu atas debu\n",
        "Dan duka maha tuan bertakhta'''\n",
        "\n",
        "type(sajak)"
      ],
      "metadata": {
        "id": "Dk8UZM-XpIVW"
      },
      "execution_count": null,
      "outputs": []
    },
    {
      "cell_type": "markdown",
      "source": [
        "**`Boolean (bool)`**"
      ],
      "metadata": {
        "id": "zEwdke_2pLoD"
      }
    },
    {
      "cell_type": "code",
      "source": [
        "mahasiswa_aktif = False\n",
        "type(mahasiswa_aktif)"
      ],
      "metadata": {
        "id": "Iqi7Zg33pdi9"
      },
      "execution_count": null,
      "outputs": []
    },
    {
      "cell_type": "code",
      "source": [
        "lulus = True \n",
        "type(lulus)"
      ],
      "metadata": {
        "id": "6jDrPrsMph0n"
      },
      "execution_count": null,
      "outputs": []
    },
    {
      "cell_type": "code",
      "source": [
        "score = 65\n",
        "score = 75\n",
        "score = 80\n",
        "score = 90\n",
        "\n",
        "#periksa isi variable score\n",
        "score"
      ],
      "metadata": {
        "id": "qV2kPVQNpl5q"
      },
      "execution_count": null,
      "outputs": []
    },
    {
      "cell_type": "code",
      "source": [
        "wadah = 'Indonesia'\n",
        "type(wadah)\n",
        "\n",
        "wadah = True\n",
        "type(wadah)\n",
        "\n",
        "wadah = 273500000\n",
        "type(wadah)\n",
        "\n",
        "wadah = 5.02\n",
        "type(wadah)"
      ],
      "metadata": {
        "id": "SunYMZEMpohR"
      },
      "execution_count": null,
      "outputs": []
    },
    {
      "cell_type": "markdown",
      "source": [
        "# c. Mencetak Variable"
      ],
      "metadata": {
        "id": "hi9AYzOLp0Ld"
      }
    },
    {
      "cell_type": "code",
      "source": [
        "nama = \"Siti Nur Fadhilah\"\n",
        "usia = 19\n",
        "bmi = 23.2\n",
        "timnas = True \n",
        "\n",
        "print(nama)\n",
        "print(usia)\n",
        "print(bmi)\n",
        "print(timnas)"
      ],
      "metadata": {
        "id": "EsTx7zcGp5Nc"
      },
      "execution_count": null,
      "outputs": []
    },
    {
      "cell_type": "code",
      "source": [
        "nama = \"Siti Nur Fadhilah\"\n",
        "usia = 19\n",
        "bmi = 23.2\n",
        "timnas = True \n",
        "\n",
        "print(\"Nama\\t\\t: \", nama)\n",
        "print(\"Usia\\t\\t: \", usia)\n",
        "print(\"BMI\\t\\t: \", bmi)\n",
        "print(\"Pemain Timnas\\t: \", timnas)"
      ],
      "metadata": {
        "id": "RVW8N_UhqeOy"
      },
      "execution_count": null,
      "outputs": []
    },
    {
      "cell_type": "code",
      "source": [
        "nama = \"Siti Nur Fadhilah\"\n",
        "usia = 19\n",
        "bmi = 23.2\n",
        "timnas = True \n",
        "\n",
        "print(\"Nama\\t\\t: {}\".format(nama))\n",
        "print(\"Usia\\t\\t: {} tahun\".format(usia))\n",
        "print(\"BMI\\t\\t: {}\".format(bmi))\n",
        "print(\"Pemain Timnas\\t: {}\".format(timnas))"
      ],
      "metadata": {
        "id": "o5rMFn9Pq1ns"
      },
      "execution_count": null,
      "outputs": []
    },
    {
      "cell_type": "code",
      "source": [
        "nama = \"Siti Nur Fadhilah\"\n",
        "usia = 19\n",
        "bmi = 23.2\n",
        "timnas = True \n",
        "\n",
        "print(f\"Nama\\t\\t: {nama}\")\n",
        "print(f\"Usia\\t\\t: {usia} tahun\")\n",
        "print(f\"BMI\\t\\t: {bmi}\")\n",
        "print(f\"Pemain Timnas\\t: {timnas}\")"
      ],
      "metadata": {
        "id": "qTVRW3dprCyM"
      },
      "execution_count": null,
      "outputs": []
    },
    {
      "cell_type": "code",
      "source": [
        "panjang = 80\n",
        "lebar = 100\n",
        "\n",
        "panjang, lebar = lebar, panjang\n",
        "\n",
        "print(f\"panjang = {panjang}, lebar = {lebar}\")"
      ],
      "metadata": {
        "id": "Klk5fBVBrSP5"
      },
      "execution_count": null,
      "outputs": []
    },
    {
      "cell_type": "code",
      "source": [
        "Minggu = 1\n",
        "topiK = 'MyFirstProgram.py'\n",
        "ModuleLink = 'https://www.orbitguru.org'\n",
        "\n",
        "print(f\"Lihat materi minggu ke-{minggu}, tentang{topik}, disini: {modulelink}\")"
      ],
      "metadata": {
        "id": "PrsZtYc6sA8s"
      },
      "execution_count": null,
      "outputs": []
    },
    {
      "cell_type": "code",
      "source": [
        "nama = input('Nama\\t\\t\\t: ')\n",
        "usia = input('Usia\\t\\t\\t: ')\n",
        "Jenkel = input('Jenis Kelamin\\t\\t: ')\n",
        "Asal_PT = input('Asal Perguruan Tinggi\\t: ')\n",
        "prodi = input('Program Studi\\t\\t: ')\n",
        "\n",
        "print(f\"\"\"\\nHalo! Perkenalkan, namaku {nama} dan usiaku {usia} tahun.\n",
        "      Aku seorang {Jenkel}.\n",
        "      Saat ini, aku berkuliah di {Asal_PT}, jurusan {prodi},\n",
        "      Salam Kenal!\"\"\")"
      ],
      "metadata": {
        "id": "W_h0QrVatTlH"
      },
      "execution_count": null,
      "outputs": []
    },
    {
      "cell_type": "markdown",
      "source": [
        "# d. Case Sensitive"
      ],
      "metadata": {
        "id": "6MR5kGkk3g0B"
      }
    },
    {
      "cell_type": "code",
      "source": [
        "Minggu = 1\n",
        "topiK = 'MyFirstProgram.py'\n",
        "ModuleLink = 'https://www.orbitguru.org'\n",
        "\n",
        "print(f\"Lihat materi minggu ke-{minggu}, tentang{topik}, disini: {modulelink}\")"
      ],
      "metadata": {
        "id": "Q34LCjc1DixC"
      },
      "execution_count": null,
      "outputs": []
    },
    {
      "cell_type": "markdown",
      "source": [
        "# e. Menginput Nilai"
      ],
      "metadata": {
        "id": "Gr9Wwn96Dx_D"
      }
    },
    {
      "cell_type": "code",
      "source": [
        "nama = input('Nama\\t\\t\\t: ')\n",
        "usia = input('Usia\\t\\t\\t: ')\n",
        "Jenkel = input('Jenis Kelamin\\t\\t: ')\n",
        "Asal_PT = input('Asal Perguruan Tinggi\\t: ')\n",
        "prodi = input('Program Studi\\t\\t: ')\n",
        "\n",
        "print(f\"\"\"\\nHalo! Perkenalkan, namaku {nama} dan usiaku {usia} tahun.\n",
        "      Aku seorang {Jenkel}.\n",
        "      Saat ini, aku berkuliah di {Asal_PT}, jurusan {prodi},\n",
        "      Salam Kenal!\"\"\")"
      ],
      "metadata": {
        "id": "vLfzs1-ctUbn"
      },
      "execution_count": null,
      "outputs": []
    },
    {
      "cell_type": "markdown",
      "source": [
        "# f. Type Casting "
      ],
      "metadata": {
        "id": "uGnlwn-8D6q8"
      }
    },
    {
      "cell_type": "code",
      "source": [
        "tahun_lahir = input('Tahun Lahir Anda = ')\n",
        "type(tahun_lahir)"
      ],
      "metadata": {
        "id": "1whNUbtCD3pa"
      },
      "execution_count": null,
      "outputs": []
    },
    {
      "cell_type": "code",
      "source": [
        "tahun_lahir = input('Tahun Lahir Anda = ')\n",
        "print('Usia Anda saat ini = ', 2022 - tahun_lahir, 'tahun')"
      ],
      "metadata": {
        "id": "5qXjS5wQEAoM"
      },
      "execution_count": null,
      "outputs": []
    },
    {
      "cell_type": "code",
      "source": [
        "tahun_lahir = input('Tahun Lahir Anda = ')\n",
        "tahun_lahir = int(tahun_lahir)\n",
        "print('Usia Anda saat ini = ', 2022 - tahun_lahir, 'tahun')"
      ],
      "metadata": {
        "id": "MLDYiR59EC2y"
      },
      "execution_count": null,
      "outputs": []
    },
    {
      "cell_type": "code",
      "source": [
        "accuracy = 93.845\n",
        "accuracy = int(accuracy) #float to int\n",
        "\n",
        "print(accuracy)"
      ],
      "metadata": {
        "id": "sKEyxo7WEKcB"
      },
      "execution_count": null,
      "outputs": []
    },
    {
      "cell_type": "code",
      "source": [
        "jumlah_data = 30\n",
        "jumlah_data = float(jumlah_data) #int to float\n",
        "\n",
        "print(jumlah_data)"
      ],
      "metadata": {
        "id": "CUXG8FuuEMmN"
      },
      "execution_count": null,
      "outputs": []
    },
    {
      "cell_type": "code",
      "source": [
        "pressure = '101.325'\n",
        "pressure = float(pressure) #string to float\n",
        "\n",
        "print(pressure)"
      ],
      "metadata": {
        "id": "54iOpaAcERe1"
      },
      "execution_count": null,
      "outputs": []
    },
    {
      "cell_type": "code",
      "source": [
        "average = 0.0\n",
        "average = bool(average) #float to bool\n",
        "\n",
        "print(average)"
      ],
      "metadata": {
        "id": "Txp0wT0tETtu"
      },
      "execution_count": null,
      "outputs": []
    },
    {
      "cell_type": "code",
      "source": [
        "bidang = 'Artificial Intelligence'\n",
        "versi_int = int(bidang)\n",
        "versi_float = float(bidang)\n",
        "\n",
        "print(versi_int, 'dan', versi_int)"
      ],
      "metadata": {
        "id": "5034LQWoEVw5"
      },
      "execution_count": null,
      "outputs": []
    },
    {
      "cell_type": "markdown",
      "source": [
        "# g. Operator"
      ],
      "metadata": {
        "id": "zFEyqzjuEZwN"
      }
    },
    {
      "cell_type": "markdown",
      "source": [
        "**operator Aritmatika**"
      ],
      "metadata": {
        "id": "eFd2Wv2aEc-P"
      }
    },
    {
      "cell_type": "code",
      "source": [
        "x = 5\n",
        "y = 3\n",
        "\n",
        "exponent = x ** y \n",
        "multiplication = x * y\n",
        "division =  x / y\n",
        "floor_division = x // y\n",
        "modulus = x % y\n",
        "addition = x + y \n",
        "subtraction = x - y\n",
        "\n",
        "print(f'{x} ** {y} = {exponent}') #x pangkat y\n",
        "print(f'{x} * {y} = {multiplication}')\n",
        "print(f'{x} / {y} = {division}') \n",
        "print(f'{x} // {y} = {floor_division}') #pembagian dengan pembulatan kebawah\n",
        "print(f'{x} % {y} = {modulus}') #sisa hasil bagi x dengan y\n",
        "print(f'{x} + {y} = {addition}')\n",
        "print(f'{x} - {y} = {subtraction}')"
      ],
      "metadata": {
        "id": "ms41vQuoEcP3"
      },
      "execution_count": null,
      "outputs": []
    },
    {
      "cell_type": "code",
      "source": [
        "total_pertemuan = 10\n",
        "kehadiran = 8\n",
        "tugas = 85\n",
        "ujian = 80\n",
        "\n",
        "nilai_akhir = (kehadiran/total_pertemuan)*30 + tugas*0.3 + ujian*0.4\n",
        "print('Nilai Akhir Student = ', nilai_akhir)"
      ],
      "metadata": {
        "id": "KfpGpAT6FquK"
      },
      "execution_count": null,
      "outputs": []
    },
    {
      "cell_type": "code",
      "source": [
        "harga = 100 \n",
        "\n",
        "harga = harga + 20\n",
        "print(harga)\n",
        "\n",
        "harga = harga - 10\n",
        "print(harga)"
      ],
      "metadata": {
        "id": "s2YLBGCBFs3E"
      },
      "execution_count": null,
      "outputs": []
    },
    {
      "cell_type": "code",
      "source": [
        "harga = 100\n",
        "\n",
        "harga+= 20\n",
        "print(harga)\n",
        "\n",
        "harga -= 10\n",
        "print(harga)"
      ],
      "metadata": {
        "id": "R2DFbT9gF2WV"
      },
      "execution_count": null,
      "outputs": []
    },
    {
      "cell_type": "markdown",
      "source": [
        "**Operator Perbandingan**"
      ],
      "metadata": {
        "id": "j3_2FGvgF7AU"
      }
    },
    {
      "cell_type": "code",
      "source": [
        "x = 5\n",
        "y = 3\n",
        "\n",
        "print(f\"{x} < {y} = \", x < y)\n",
        "print(f\"{x} > {y} = \", x > y)\n",
        "print(f\"{x} <= {y} = \", x <= y)\n",
        "print(f\"{x} >= {y} = \", x >= y)\n",
        "print(f\"{x} == {y} = \", x != y)\n",
        "print(f\"{x} != {y} = \", x == y)"
      ],
      "metadata": {
        "id": "9uu6ZiIkGAZn"
      },
      "execution_count": null,
      "outputs": []
    },
    {
      "cell_type": "code",
      "source": [
        "password = 'admin123'\n",
        "password_tersimpan = 'admin123'\n",
        "\n",
        "verifikasi = password == password_tersimpan\n",
        "\n",
        "print(verifikasi)"
      ],
      "metadata": {
        "id": "EbXPcM_lGCCB"
      },
      "execution_count": null,
      "outputs": []
    },
    {
      "cell_type": "markdown",
      "source": [
        "**Operator** **Logika**"
      ],
      "metadata": {
        "id": "KrRNd4PwGFNH"
      }
    },
    {
      "cell_type": "code",
      "source": [
        "x = True\n",
        "y = False\n",
        "\n",
        "print(\"x and b = \", x and y)\n",
        "print(\"x or b = \", x or y)\n",
        "print(\"not(x) = \", not(x))"
      ],
      "metadata": {
        "id": "WJjYGC8FGVuX"
      },
      "execution_count": null,
      "outputs": []
    },
    {
      "cell_type": "code",
      "source": [
        "a = 9 \n",
        "b = 12\n",
        "c = 35\n",
        "\n",
        "print(a < b and b < c)\n",
        "print(a == b and b != c, '\\n')\n",
        "\n",
        "print(a < b or b < c)\n",
        "print(a == b and b != c, '\\n')\n",
        "\n",
        "print(not(a == b))\n",
        "print(not(b != c))"
      ],
      "metadata": {
        "id": "WvJhBf6CGYjh"
      },
      "execution_count": null,
      "outputs": []
    },
    {
      "cell_type": "markdown",
      "source": [
        "## Latihan"
      ],
      "metadata": {
        "id": "51RVAEcPnJ2b"
      }
    },
    {
      "cell_type": "markdown",
      "source": [
        "# Bangun Datar 2D"
      ],
      "metadata": {
        "id": "uen3Qf_am-yR"
      }
    },
    {
      "cell_type": "markdown",
      "source": [
        "a. Persegi"
      ],
      "metadata": {
        "id": "9r_xXU6Cd-0U"
      }
    },
    {
      "cell_type": "code",
      "source": [
        "#Mencari Luas persegi \n",
        "#Rumus s x s\n",
        "print(\"Mencari Luas Persegi\\n\")\n",
        "\n",
        "sisi1 = int(input(\"Masukkan sisi : \"))\n",
        "sisi2 = int(input(\"Masukkan sisi : \"))\n",
        "\n",
        "persegi = sisi1 * sisi2\n",
        "print(\"\\nHasil : \",persegi)"
      ],
      "metadata": {
        "colab": {
          "base_uri": "https://localhost:8080/"
        },
        "id": "gKV1kFEmc4cF",
        "outputId": "be3e48df-d554-4771-d8d2-f70e2b550aa0"
      },
      "execution_count": null,
      "outputs": [
        {
          "output_type": "stream",
          "name": "stdout",
          "text": [
            "Mencari Luas Persegi\n",
            "\n",
            "Masukkan sisi : 1\n",
            "Masukkan sisi : 1\n",
            "Hasil :  1\n"
          ]
        }
      ]
    },
    {
      "cell_type": "code",
      "source": [
        "#Mencari Keliling Persegi \n",
        "#Rumus s x 4\n",
        "\n",
        "print(\"Mencari Keliling Persegi\\n\")\n",
        "\n",
        "sisi = int(input(\"Masukkan sisi : \"))\n",
        "\n",
        "keliling = sisi * 4\n",
        "print(\"\\nHasil : \",keliling)"
      ],
      "metadata": {
        "id": "QFOYIr_IdSBZ"
      },
      "execution_count": null,
      "outputs": []
    },
    {
      "cell_type": "markdown",
      "source": [
        "b. Persegi Panjang"
      ],
      "metadata": {
        "id": "sN3dz5NAdUuo"
      }
    },
    {
      "cell_type": "code",
      "source": [
        "#Mencari Luas Persegi Panjang\n",
        "#Rumus p x l \n",
        "\n",
        "print(\"Menghitung luas persegi panjang\\n\")\n",
        "\n",
        "p = int(input(\"Masukkan Panjang : \"))\n",
        "l = int(input(\"Masukkan Lebar \\t: \"))\n",
        "\n",
        "luas = p * l \n",
        "\n",
        "print(\"\\nHasil : \",luas)"
      ],
      "metadata": {
        "id": "n_FbkL3SdVCr"
      },
      "execution_count": null,
      "outputs": []
    },
    {
      "cell_type": "code",
      "source": [
        "#Mencari Keliling Persegi Panjang\n",
        "#Rumus 2 x (p x l)\n",
        "\n",
        "print(\"Menghitung keliling persegi panjang\\n\")\n",
        "\n",
        "p = int(input(\"Masukkan Panjang : \"))\n",
        "l = int(input(\"Masukkan Lebar \\t: \"))\n",
        "\n",
        "keliling = 2 * (p + l)\n",
        "print(\"\\nHasil : \",keliling)"
      ],
      "metadata": {
        "id": "KXA-6IDxddC7"
      },
      "execution_count": null,
      "outputs": []
    },
    {
      "cell_type": "markdown",
      "source": [
        "\n",
        "c. Jajar Genjang\n",
        "\n",
        "\n",
        "\n"
      ],
      "metadata": {
        "id": "Tmt8qEeKdgeU"
      }
    },
    {
      "cell_type": "code",
      "source": [
        "#Mencari luas Jajar Genjang\n",
        "#Rumus a x t\n",
        "\n",
        "print(\"Menghitung luas jajar genjang\\n\")\n",
        "\n",
        "a = int(input(\"Masukkan Nilai Alas : \"))\n",
        "t = int(input(\"Masukkan Nilai Tinggi : \"))\n",
        "\n",
        "luas = a * t\n",
        "print(\"\\nHasil : \",luas)"
      ],
      "metadata": {
        "id": "iAVEyKnmdftt"
      },
      "execution_count": null,
      "outputs": []
    },
    {
      "cell_type": "code",
      "source": [
        "#Mencari keliling Jajar Genjang\n",
        "#Rumus 2 x (a + b)\n",
        "\n",
        "print(\"Menghitung keliling jajar genjang\\n\")\n",
        "\n",
        "a = int(input(\"Masukkan Nilai Alas : \"))\n",
        "b = int(input(\"Masukkan Nilai Sisi Miring : \"))\n",
        "\n",
        "keliling = 2 * (a + b)\n",
        "\n",
        "print(\"\\nHasil : \",keliling)"
      ],
      "metadata": {
        "id": "QyjjtBHgdkOJ"
      },
      "execution_count": null,
      "outputs": []
    },
    {
      "cell_type": "markdown",
      "source": [
        "d. Segitiga"
      ],
      "metadata": {
        "id": "C2yK9TZNdudO"
      }
    },
    {
      "cell_type": "code",
      "source": [
        "#Mencari luas Segitiga\n",
        "#Rumus 1/2 x a x t\n",
        "\n",
        "print(\"Menghitung luas Segitiga\\n\")\n",
        "\n",
        "a = int(input(\"Masukkan Nilai Sisi : \"))\n",
        "t = int(input(\"Masukkan Nilai Tinggi : \"))\n",
        "\n",
        "luas = 1/2 * a * t\n",
        "print(\"\\nHasil : \",luas)"
      ],
      "metadata": {
        "id": "-nVjtMAKdu97"
      },
      "execution_count": null,
      "outputs": []
    },
    {
      "cell_type": "code",
      "source": [
        "#Mencari keliling Segitiga\n",
        "#Rumus a + b + c\n",
        "\n",
        "print(\"Menghitung keliling Segitiga\\n\")\n",
        "\n",
        "a1 = int(input(\"Masukkan Nilai Sisi 1 : \"))\n",
        "a2 = int(input(\"Masukkan Nilai Sisi 2 : \"))\n",
        "a3 = int(input(\"Masukkan Nilai Sisi 3 : \"))\n",
        "\n",
        "keliling = a1 + a2 + a3\n",
        "print(\"\\nHasil : \",keliling)"
      ],
      "metadata": {
        "colab": {
          "base_uri": "https://localhost:8080/"
        },
        "id": "TTQ6alCHd6RX",
        "outputId": "bc83ab9b-9888-4c2a-e51f-7929d8ad3e53"
      },
      "execution_count": null,
      "outputs": [
        {
          "output_type": "stream",
          "name": "stdout",
          "text": [
            "Menghitung keliling Segitiga\n",
            "\n",
            "Masukkan Nilai Sisi 1 : 1\n",
            "Masukkan Nilai Sisi 2 : 1\n",
            "Masukkan Nilai Sisi 3 : 1\n",
            "\n",
            "Hasil :  3\n"
          ]
        }
      ]
    },
    {
      "cell_type": "markdown",
      "source": [
        "# Bangun Ruang 3D"
      ],
      "metadata": {
        "id": "-v6iMDM5eY5V"
      }
    },
    {
      "cell_type": "markdown",
      "source": [
        "a. Kubus"
      ],
      "metadata": {
        "id": "gp4BM7xCegfA"
      }
    },
    {
      "cell_type": "code",
      "source": [
        "#Mencari luas Kubus\n",
        "#Rumus 6 x r x r\n",
        "\n",
        "print(\"Menghitung luas Kubus\\n\")\n",
        "\n",
        "r1 = int(input(\"Masukkan Nilai panjang rusuk 1 : \"))\n",
        "r2 = int(input(\"Masukkan Nilai panjang rusuk 2 : \"))\n",
        "\n",
        "luas = 6 * r1 * r2\n",
        "print(\"\\nHasil : \",luas)"
      ],
      "metadata": {
        "id": "kdQUuKh6edJj"
      },
      "execution_count": null,
      "outputs": []
    },
    {
      "cell_type": "code",
      "source": [
        "#Mencari keliling Kubus\n",
        "#Rumus r x r x r\n",
        "\n",
        "print(\"Menghitung keliling Kubus\\n\")\n",
        "\n",
        "r1 = int(input(\"Masukkan Nilai panjang rusuk 1 : \"))\n",
        "r2 = int(input(\"Masukkan Nilai panjang rusuk 2 : \"))\n",
        "r3 = int(input(\"Masukkan Nilai panjang rusuk 3 : \"))\n",
        "\n",
        "keliling = r1 * r2 * r3\n",
        "print(\"\\nHasil : \",keliling)"
      ],
      "metadata": {
        "id": "8OrRRCGaen0e"
      },
      "execution_count": null,
      "outputs": []
    },
    {
      "cell_type": "markdown",
      "source": [
        "b. Balok"
      ],
      "metadata": {
        "id": "r-9r8qGfeqoL"
      }
    },
    {
      "cell_type": "code",
      "source": [
        "#Mencari luas Balok\n",
        "#Rumus 2x(pxl + pxt + lxt)\n",
        "\n",
        "print(\"Menghitung luas Balok\\n\")\n",
        "\n",
        "p = int(input(\"Masukkan Nilai panjang \"))\n",
        "l = int(input(\"Masukkan Nilai lebar : \"))\n",
        "t = int(input(\"Masukkan Nilai tinggi : \"))\n",
        "\n",
        "luas = 2*(p*l + p*t + l*t)\n",
        "print(\"\\nHasil : \",luas)"
      ],
      "metadata": {
        "id": "Vx7DBC9HeyH-"
      },
      "execution_count": null,
      "outputs": []
    },
    {
      "cell_type": "code",
      "source": [
        "#Mencari keliling Balok\n",
        "#Rumus p x l x t\n",
        "\n",
        "print(\"Menghitung keliling Balok\\n\")\n",
        "\n",
        "p = int(input(\"Masukkan Nilai panjang : \"))\n",
        "l = int(input(\"Masukkan Nilai lebar : \"))\n",
        "t = int(input(\"Masukkan Nilai tinggi : \"))\n",
        "\n",
        "luas = p * l * t\n",
        "print(\"\\nHasil : \",luas)"
      ],
      "metadata": {
        "id": "8FPy1bw4e8dI"
      },
      "execution_count": null,
      "outputs": []
    },
    {
      "cell_type": "markdown",
      "source": [
        "c. Tabung"
      ],
      "metadata": {
        "id": "rgcfGLeYe_KH"
      }
    },
    {
      "cell_type": "code",
      "source": [
        "#Mencari luas Tabung\n",
        "#Rumus 2 x phi x r x (t+r)\n",
        "\n",
        "print(\"Menghitung luas Tabung\\n\")\n",
        "\n",
        "t = int(input(\"Masukkan Nilai tinggi : \"))\n",
        "r = int(input(\"Masukkan Nilai jari -jari : \"))\n",
        "phi = 3.14\n",
        "\n",
        "luas = 2* phi * r * (t+r)\n",
        "print(\"\\nHasil : \",luas)"
      ],
      "metadata": {
        "id": "pnyT6muAfDX3"
      },
      "execution_count": null,
      "outputs": []
    },
    {
      "cell_type": "code",
      "source": [
        "#Mencari keliling Tabung\n",
        "#Rumus phi x r x r x t\n",
        "\n",
        "print(\"Menghitung keliling Tabung\\n\")\n",
        "\n",
        "t = int(input(\"Masukkan Nilai tinggi : \"))\n",
        "r = int(input(\"Masukkan Nilai jari -jari : \"))\n",
        "phi = 3.14\n",
        "\n",
        "keliling = phi * r * r * t\n",
        "print(\"\\nHasil : \",keliling)"
      ],
      "metadata": {
        "id": "F712L-d3fO1q"
      },
      "execution_count": null,
      "outputs": []
    }
  ]
}
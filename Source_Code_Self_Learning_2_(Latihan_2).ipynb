{
  "nbformat": 4,
  "nbformat_minor": 0,
  "metadata": {
    "colab": {
      "name": "Source Code - Self Learning 2 (Latihan 2).ipynb",
      "provenance": [],
      "collapsed_sections": [],
      "authorship_tag": "ABX9TyOuRndN38OcC6hAzwfMQZcW",
      "include_colab_link": true
    },
    "kernelspec": {
      "name": "python3",
      "display_name": "Python 3"
    },
    "language_info": {
      "name": "python"
    }
  },
  "cells": [
    {
      "cell_type": "markdown",
      "metadata": {
        "id": "view-in-github",
        "colab_type": "text"
      },
      "source": [
        "<a href=\"https://colab.research.google.com/github/20SA1164/Modul-MSIB-/blob/main/Source_Code_Self_Learning_2_(Latihan_2).ipynb\" target=\"_parent\"><img src=\"https://colab.research.google.com/assets/colab-badge.svg\" alt=\"Open In Colab\"/></a>"
      ]
    },
    {
      "cell_type": "markdown",
      "source": [
        "## Latihan"
      ],
      "metadata": {
        "id": "51RVAEcPnJ2b"
      }
    },
    {
      "cell_type": "markdown",
      "source": [
        "# Bangun Datar 2D"
      ],
      "metadata": {
        "id": "uen3Qf_am-yR"
      }
    },
    {
      "cell_type": "markdown",
      "source": [
        "a. Persegi"
      ],
      "metadata": {
        "id": "9r_xXU6Cd-0U"
      }
    },
    {
      "cell_type": "code",
      "source": [
        "#Mencari Luas persegi \n",
        "#Rumus s x s\n",
        "print(\"Mencari Luas Persegi\\n\")\n",
        "\n",
        "sisi1 = int(input(\"Masukkan sisi : \"))\n",
        "sisi2 = int(input(\"Masukkan sisi : \"))\n",
        "\n",
        "persegi = sisi1 * sisi2\n",
        "print(\"\\nHasil : \",persegi)"
      ],
      "metadata": {
        "colab": {
          "base_uri": "https://localhost:8080/"
        },
        "id": "gKV1kFEmc4cF",
        "outputId": "ecd1ff86-ed18-4b42-c112-61b31791aed8"
      },
      "execution_count": 1,
      "outputs": [
        {
          "output_type": "stream",
          "name": "stdout",
          "text": [
            "Mencari Luas Persegi\n",
            "\n",
            "Masukkan sisi : 5\n",
            "Masukkan sisi : 5\n",
            "\n",
            "Hasil :  25\n"
          ]
        }
      ]
    },
    {
      "cell_type": "code",
      "source": [
        "#Mencari Keliling Persegi \n",
        "#Rumus s x 4\n",
        "\n",
        "print(\"Mencari Keliling Persegi\\n\")\n",
        "\n",
        "sisi = int(input(\"Masukkan sisi : \"))\n",
        "\n",
        "keliling = sisi * 4\n",
        "print(\"\\nHasil : \",keliling)"
      ],
      "metadata": {
        "id": "QFOYIr_IdSBZ",
        "colab": {
          "base_uri": "https://localhost:8080/"
        },
        "outputId": "0a08689e-c098-43ed-ce42-27fd91eb52db"
      },
      "execution_count": 2,
      "outputs": [
        {
          "output_type": "stream",
          "name": "stdout",
          "text": [
            "Mencari Keliling Persegi\n",
            "\n",
            "Masukkan sisi : 7\n",
            "\n",
            "Hasil :  28\n"
          ]
        }
      ]
    },
    {
      "cell_type": "markdown",
      "source": [
        "b. Persegi Panjang"
      ],
      "metadata": {
        "id": "sN3dz5NAdUuo"
      }
    },
    {
      "cell_type": "code",
      "source": [
        "#Mencari Luas Persegi Panjang\n",
        "#Rumus p x l \n",
        "\n",
        "print(\"Menghitung luas persegi panjang\\n\")\n",
        "\n",
        "p = int(input(\"Masukkan Panjang : \"))\n",
        "l = int(input(\"Masukkan Lebar \\t: \"))\n",
        "\n",
        "luas = p * l \n",
        "\n",
        "print(\"\\nHasil : \",luas)"
      ],
      "metadata": {
        "id": "n_FbkL3SdVCr",
        "colab": {
          "base_uri": "https://localhost:8080/"
        },
        "outputId": "d202f83a-4aee-4d43-8595-8a264f4221ca"
      },
      "execution_count": 3,
      "outputs": [
        {
          "output_type": "stream",
          "name": "stdout",
          "text": [
            "Menghitung luas persegi panjang\n",
            "\n",
            "Masukkan Panjang : 10\n",
            "Masukkan Lebar \t: 10\n",
            "\n",
            "Hasil :  100\n"
          ]
        }
      ]
    },
    {
      "cell_type": "code",
      "source": [
        "#Mencari Keliling Persegi Panjang\n",
        "#Rumus 2 x (p x l)\n",
        "\n",
        "print(\"Menghitung keliling persegi panjang\\n\")\n",
        "\n",
        "p = int(input(\"Masukkan Panjang : \"))\n",
        "l = int(input(\"Masukkan Lebar \\t: \"))\n",
        "\n",
        "keliling = 2 * (p + l)\n",
        "print(\"\\nHasil : \",keliling)"
      ],
      "metadata": {
        "id": "KXA-6IDxddC7",
        "colab": {
          "base_uri": "https://localhost:8080/"
        },
        "outputId": "18d450c6-f890-4a84-af2d-4e57cb4c5176"
      },
      "execution_count": 4,
      "outputs": [
        {
          "output_type": "stream",
          "name": "stdout",
          "text": [
            "Menghitung keliling persegi panjang\n",
            "\n",
            "Masukkan Panjang : 4\n",
            "Masukkan Lebar \t: 5\n",
            "\n",
            "Hasil :  18\n"
          ]
        }
      ]
    },
    {
      "cell_type": "markdown",
      "source": [
        "\n",
        "c. Jajar Genjang\n",
        "\n",
        "\n",
        "\n"
      ],
      "metadata": {
        "id": "Tmt8qEeKdgeU"
      }
    },
    {
      "cell_type": "code",
      "source": [
        "#Mencari luas Jajar Genjang\n",
        "#Rumus a x t\n",
        "\n",
        "print(\"Menghitung luas jajar genjang\\n\")\n",
        "\n",
        "a = int(input(\"Masukkan Nilai Alas : \"))\n",
        "t = int(input(\"Masukkan Nilai Tinggi : \"))\n",
        "\n",
        "luas = a * t\n",
        "print(\"\\nHasil : \",luas)"
      ],
      "metadata": {
        "id": "iAVEyKnmdftt",
        "colab": {
          "base_uri": "https://localhost:8080/"
        },
        "outputId": "0dc457a1-c706-4e3f-a8af-4a3bdd12019c"
      },
      "execution_count": 5,
      "outputs": [
        {
          "output_type": "stream",
          "name": "stdout",
          "text": [
            "Menghitung luas jajar genjang\n",
            "\n",
            "Masukkan Nilai Alas : 7\n",
            "Masukkan Nilai Tinggi : 7\n",
            "\n",
            "Hasil :  49\n"
          ]
        }
      ]
    },
    {
      "cell_type": "code",
      "source": [
        "#Mencari keliling Jajar Genjang\n",
        "#Rumus 2 x (a + b)\n",
        "\n",
        "print(\"Menghitung keliling jajar genjang\\n\")\n",
        "\n",
        "a = int(input(\"Masukkan Nilai Alas : \"))\n",
        "b = int(input(\"Masukkan Nilai Sisi Miring : \"))\n",
        "\n",
        "keliling = 2 * (a + b)\n",
        "\n",
        "print(\"\\nHasil : \",keliling)"
      ],
      "metadata": {
        "id": "QyjjtBHgdkOJ",
        "colab": {
          "base_uri": "https://localhost:8080/"
        },
        "outputId": "87818a05-036d-4092-f4ee-1164cc5edc87"
      },
      "execution_count": 6,
      "outputs": [
        {
          "output_type": "stream",
          "name": "stdout",
          "text": [
            "Menghitung keliling jajar genjang\n",
            "\n",
            "Masukkan Nilai Alas : 5\n",
            "Masukkan Nilai Sisi Miring : 5\n",
            "\n",
            "Hasil :  20\n"
          ]
        }
      ]
    },
    {
      "cell_type": "markdown",
      "source": [
        "d. Segitiga"
      ],
      "metadata": {
        "id": "C2yK9TZNdudO"
      }
    },
    {
      "cell_type": "code",
      "source": [
        "#Mencari luas Segitiga\n",
        "#Rumus 1/2 x a x t\n",
        "\n",
        "print(\"Menghitung luas Segitiga\\n\")\n",
        "\n",
        "a = int(input(\"Masukkan Nilai Sisi : \"))\n",
        "t = int(input(\"Masukkan Nilai Tinggi : \"))\n",
        "\n",
        "luas = 1/2 * a * t\n",
        "print(\"\\nHasil : \",luas)"
      ],
      "metadata": {
        "id": "-nVjtMAKdu97",
        "colab": {
          "base_uri": "https://localhost:8080/"
        },
        "outputId": "f701f7cf-71d6-4b21-c75e-36e9bedf786a"
      },
      "execution_count": 7,
      "outputs": [
        {
          "output_type": "stream",
          "name": "stdout",
          "text": [
            "Menghitung luas Segitiga\n",
            "\n",
            "Masukkan Nilai Sisi : 4\n",
            "Masukkan Nilai Tinggi : 8\n",
            "\n",
            "Hasil :  16.0\n"
          ]
        }
      ]
    },
    {
      "cell_type": "code",
      "source": [
        "#Mencari keliling Segitiga\n",
        "#Rumus a + b + c\n",
        "\n",
        "print(\"Menghitung keliling Segitiga\\n\")\n",
        "\n",
        "a1 = int(input(\"Masukkan Nilai Sisi 1 : \"))\n",
        "a2 = int(input(\"Masukkan Nilai Sisi 2 : \"))\n",
        "a3 = int(input(\"Masukkan Nilai Sisi 3 : \"))\n",
        "\n",
        "keliling = a1 + a2 + a3\n",
        "print(\"\\nHasil : \",keliling)"
      ],
      "metadata": {
        "colab": {
          "base_uri": "https://localhost:8080/"
        },
        "id": "TTQ6alCHd6RX",
        "outputId": "ba8841bb-1163-49f6-e878-1cc7922d47bb"
      },
      "execution_count": 8,
      "outputs": [
        {
          "output_type": "stream",
          "name": "stdout",
          "text": [
            "Menghitung keliling Segitiga\n",
            "\n",
            "Masukkan Nilai Sisi 1 : 3\n",
            "Masukkan Nilai Sisi 2 : 5\n",
            "Masukkan Nilai Sisi 3 : 8\n",
            "\n",
            "Hasil :  16\n"
          ]
        }
      ]
    },
    {
      "cell_type": "markdown",
      "source": [
        "# Bangun Ruang 3D"
      ],
      "metadata": {
        "id": "-v6iMDM5eY5V"
      }
    },
    {
      "cell_type": "markdown",
      "source": [
        "a. Kubus"
      ],
      "metadata": {
        "id": "gp4BM7xCegfA"
      }
    },
    {
      "cell_type": "code",
      "source": [
        "#Mencari luas Kubus\n",
        "#Rumus 6 x r x r\n",
        "\n",
        "print(\"Menghitung luas Kubus\\n\")\n",
        "\n",
        "r1 = int(input(\"Masukkan Nilai panjang rusuk 1 : \"))\n",
        "r2 = int(input(\"Masukkan Nilai panjang rusuk 2 : \"))\n",
        "\n",
        "luas = 6 * r1 * r2\n",
        "print(\"\\nHasil : \",luas)"
      ],
      "metadata": {
        "id": "kdQUuKh6edJj",
        "colab": {
          "base_uri": "https://localhost:8080/"
        },
        "outputId": "cfab3702-5ce8-4b18-b511-ca265595e61d"
      },
      "execution_count": 9,
      "outputs": [
        {
          "output_type": "stream",
          "name": "stdout",
          "text": [
            "Menghitung luas Kubus\n",
            "\n",
            "Masukkan Nilai panjang rusuk 1 : 6\n",
            "Masukkan Nilai panjang rusuk 2 : 8\n",
            "\n",
            "Hasil :  288\n"
          ]
        }
      ]
    },
    {
      "cell_type": "code",
      "source": [
        "#Mencari keliling Kubus\n",
        "#Rumus r x r x r\n",
        "\n",
        "print(\"Menghitung keliling Kubus\\n\")\n",
        "\n",
        "r1 = int(input(\"Masukkan Nilai panjang rusuk 1 : \"))\n",
        "r2 = int(input(\"Masukkan Nilai panjang rusuk 2 : \"))\n",
        "r3 = int(input(\"Masukkan Nilai panjang rusuk 3 : \"))\n",
        "\n",
        "keliling = r1 * r2 * r3\n",
        "print(\"\\nHasil : \",keliling)"
      ],
      "metadata": {
        "id": "8OrRRCGaen0e",
        "colab": {
          "base_uri": "https://localhost:8080/"
        },
        "outputId": "d27dbd40-f635-4564-ffe6-7ee1fa17c787"
      },
      "execution_count": 10,
      "outputs": [
        {
          "output_type": "stream",
          "name": "stdout",
          "text": [
            "Menghitung keliling Kubus\n",
            "\n",
            "Masukkan Nilai panjang rusuk 1 : 1\n",
            "Masukkan Nilai panjang rusuk 2 : 4\n",
            "Masukkan Nilai panjang rusuk 3 : 7\n",
            "\n",
            "Hasil :  28\n"
          ]
        }
      ]
    },
    {
      "cell_type": "markdown",
      "source": [
        "b. Balok"
      ],
      "metadata": {
        "id": "r-9r8qGfeqoL"
      }
    },
    {
      "cell_type": "code",
      "source": [
        "#Mencari luas Balok\n",
        "#Rumus 2x(pxl + pxt + lxt)\n",
        "\n",
        "print(\"Menghitung luas Balok\\n\")\n",
        "\n",
        "p = int(input(\"Masukkan Nilai panjang \"))\n",
        "l = int(input(\"Masukkan Nilai lebar : \"))\n",
        "t = int(input(\"Masukkan Nilai tinggi : \"))\n",
        "\n",
        "luas = 2*(p*l + p*t + l*t)\n",
        "print(\"\\nHasil : \",luas)"
      ],
      "metadata": {
        "id": "Vx7DBC9HeyH-",
        "colab": {
          "base_uri": "https://localhost:8080/"
        },
        "outputId": "10448d4b-c4bf-43a0-92fa-936e2786bdcc"
      },
      "execution_count": 11,
      "outputs": [
        {
          "output_type": "stream",
          "name": "stdout",
          "text": [
            "Menghitung luas Balok\n",
            "\n",
            "Masukkan Nilai panjang 5\n",
            "Masukkan Nilai lebar : 4\n",
            "Masukkan Nilai tinggi : 3\n",
            "\n",
            "Hasil :  94\n"
          ]
        }
      ]
    },
    {
      "cell_type": "code",
      "source": [
        "#Mencari keliling Balok\n",
        "#Rumus p x l x t\n",
        "\n",
        "print(\"Menghitung keliling Balok\\n\")\n",
        "\n",
        "p = int(input(\"Masukkan Nilai panjang : \"))\n",
        "l = int(input(\"Masukkan Nilai lebar : \"))\n",
        "t = int(input(\"Masukkan Nilai tinggi : \"))\n",
        "\n",
        "luas = p * l * t\n",
        "print(\"\\nHasil : \",luas)"
      ],
      "metadata": {
        "id": "8FPy1bw4e8dI",
        "colab": {
          "base_uri": "https://localhost:8080/"
        },
        "outputId": "11c08ab3-54ae-48d1-ed82-469de79375f5"
      },
      "execution_count": 12,
      "outputs": [
        {
          "output_type": "stream",
          "name": "stdout",
          "text": [
            "Menghitung keliling Balok\n",
            "\n",
            "Masukkan Nilai panjang : 5\n",
            "Masukkan Nilai lebar : 7\n",
            "Masukkan Nilai tinggi : 9\n",
            "\n",
            "Hasil :  315\n"
          ]
        }
      ]
    },
    {
      "cell_type": "markdown",
      "source": [
        "c. Tabung"
      ],
      "metadata": {
        "id": "rgcfGLeYe_KH"
      }
    },
    {
      "cell_type": "code",
      "source": [
        "#Mencari luas Tabung\n",
        "#Rumus 2 x phi x r x (t+r)\n",
        "\n",
        "print(\"Menghitung luas Tabung\\n\")\n",
        "\n",
        "t = int(input(\"Masukkan Nilai tinggi : \"))\n",
        "r = int(input(\"Masukkan Nilai jari -jari : \"))\n",
        "phi = 3.14\n",
        "\n",
        "luas = 2* phi * r * (t+r)\n",
        "print(\"\\nHasil : \",luas)"
      ],
      "metadata": {
        "id": "pnyT6muAfDX3",
        "colab": {
          "base_uri": "https://localhost:8080/"
        },
        "outputId": "2c3df5a4-cfc4-4a63-8c7b-bdc8e5735915"
      },
      "execution_count": 13,
      "outputs": [
        {
          "output_type": "stream",
          "name": "stdout",
          "text": [
            "Menghitung luas Tabung\n",
            "\n",
            "Masukkan Nilai tinggi : 3\n",
            "Masukkan Nilai jari -jari : 7\n",
            "\n",
            "Hasil :  439.6\n"
          ]
        }
      ]
    },
    {
      "cell_type": "code",
      "source": [
        "#Mencari keliling Tabung\n",
        "#Rumus phi x r x r x t\n",
        "\n",
        "print(\"Menghitung keliling Tabung\\n\")\n",
        "\n",
        "t = int(input(\"Masukkan Nilai tinggi : \"))\n",
        "r = int(input(\"Masukkan Nilai jari -jari : \"))\n",
        "phi = 3.14\n",
        "\n",
        "keliling = phi * r * r * t\n",
        "print(\"\\nHasil : \",keliling)"
      ],
      "metadata": {
        "id": "F712L-d3fO1q",
        "colab": {
          "base_uri": "https://localhost:8080/"
        },
        "outputId": "ce1347cf-4673-4c50-e7bb-f377d2d4aa00"
      },
      "execution_count": 14,
      "outputs": [
        {
          "output_type": "stream",
          "name": "stdout",
          "text": [
            "Menghitung keliling Tabung\n",
            "\n",
            "Masukkan Nilai tinggi : 3\n",
            "Masukkan Nilai jari -jari : 4\n",
            "\n",
            "Hasil :  150.72\n"
          ]
        }
      ]
    }
  ]
}